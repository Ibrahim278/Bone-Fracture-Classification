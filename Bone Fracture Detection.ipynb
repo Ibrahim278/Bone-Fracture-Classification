{
 "cells": [
  {
   "cell_type": "markdown",
   "id": "e392c47e",
   "metadata": {},
   "source": [
    "# Bone Fracture Detection - MURA"
   ]
  },
  {
   "cell_type": "markdown",
   "id": "49f3fa54",
   "metadata": {},
   "source": [
    "Here we attempt to create an algorithm to classify images for bone fracture, for this an input image is given and output is given as a “Positive” or “Negative” label. The input data is in the form of X Ray images of the bones. Hence, an appropriate supervised learning model is to be trained with the data to give correct label to the input image to predict a fracture. Some preprocessing of the data (converting RGB images to Grayscale) is also necessary here. This repository contains a Keras implementation of a 169 layer Densenet Model on MURA dataset"
   ]
  },
  {
   "cell_type": "markdown",
   "id": "af2d0ac7",
   "metadata": {},
   "source": [
    "## Loading Dataset"
   ]
  },
  {
   "cell_type": "code",
   "execution_count": 22,
   "id": "06a3a5cc",
   "metadata": {},
   "outputs": [],
   "source": [
    "import os\n",
    "import numpy as np\n",
    "import cv2\n",
    "import random\n",
    "import keras.backend as K"
   ]
  },
  {
   "cell_type": "code",
   "execution_count": 23,
   "id": "07211cfa",
   "metadata": {},
   "outputs": [],
   "source": [
    "def load_path(root_path = './valid/XR_ELBOW', size = 512): #given path is a placeholder data only\n",
    "\t'''\n",
    "\tload MURA dataset\n",
    "\n",
    "\t'''\n",
    "\n",
    "\tPath = []\n",
    "\tlabels = []\n",
    "\tfor root,dirs,files in os.walk(root_path): #Read all pictures, os.walk Return to iterator genertor Traverse all files\n",
    "\t\tfor name in files:\n",
    "\t\t\tpath_1 = os.path.join(root,name)\n",
    "\t\t\tPath.append(path_1)\n",
    "\t\t\tif root.split('_')[-1]=='positive':\t #positive Label is 1，otherwise 0；\n",
    "\t\t\t\tlabels+=[1]   \t          \t #Last level directory file patient11880\\\\study1_negative\\\\image3.png\n",
    "\t\t\telse:\n",
    "\t\t\t    labels+=[0]\n",
    "\tprint (len(Path))\n",
    "\tlabels = np.asarray(labels)\n",
    "\treturn Path, labels"
   ]
  },
  {
   "cell_type": "code",
   "execution_count": 24,
   "id": "a80dbb56",
   "metadata": {},
   "outputs": [],
   "source": [
    "def load_image(Path = './valid/XR_ELBOW', size = 512): #given path is a placeholder data only\n",
    "\tImages = []\n",
    "\tfor path in Path:\n",
    "\t\ttry:\n",
    "\t\t\timage = cv2.imread(path,cv2.IMREAD_GRAYSCALE)\n",
    "\t\t\timage = cv2.resize(image,(size,size))\n",
    "\t\t\timage = randome_rotation_flip(image,size)\n",
    "\t\t\tImages.append(image)\n",
    "\n",
    "\t\texcept Exception as e:\n",
    "\t\t\tprint(str(e))\n",
    "\n",
    "\tImages = np.asarray(Images).astype('float32')\n",
    "\n",
    "\tmean = np.mean(Images)\t\t\t#normalization\n",
    "\tstd = np.std(Images)\n",
    "\tImages = (Images - mean) / std\n",
    "\t\n",
    "\tif K.image_data_format() == \"channels_first\":\n",
    "\t\tImages = np.expand_dims(Images,axis=1)\t\t   #Extended dimension 1\n",
    "\tif K.image_data_format() == \"channels_last\":\n",
    "\t\tImages = np.expand_dims(Images,axis=3)             #Extended dimension 3(usebackend tensorflow:aixs=3; theano:axixs=1) \n",
    "\treturn Images"
   ]
  },
  {
   "cell_type": "code",
   "execution_count": 25,
   "id": "c94a8a19",
   "metadata": {},
   "outputs": [],
   "source": [
    "def randome_rotation_flip(image,size = 512):\n",
    "\tif random.randint(0,1):\n",
    "\t\tiamge = cv2.flip(image,1) # 1-->horizontal flip 0-->Vertical flip -1-->Horizontal and vertical\n",
    "\n",
    "\tif random.randint(0,1):\n",
    "\t\tangle = random.randint(-30,30)\n",
    "\t\tM = cv2.getRotationMatrix2D((size/2,size/2),angle,1)\n",
    "\t\t#The third parameter: the size of the transformed image\n",
    "\t\timage = cv2.warpAffine(image,M,(size,size))\n",
    "\treturn image"
   ]
  },
  {
   "cell_type": "markdown",
   "id": "bd371a0a",
   "metadata": {},
   "source": [
    "## Training The Model"
   ]
  },
  {
   "cell_type": "code",
   "execution_count": 26,
   "id": "bae54689",
   "metadata": {},
   "outputs": [],
   "source": [
    "from __future__ import print_function\n",
    "\n",
    "import os\n",
    "import time\n",
    "import datetime\n",
    "import random\n",
    "import json\n",
    "import argparse\n",
    "import densenet\n",
    "import numpy as np\n",
    "import keras.backend as K\n",
    "\n",
    "from keras.optimizers import Adam\n",
    "from keras.utils import np_utils\n",
    "\n",
    "import data_loader"
   ]
  },
  {
   "cell_type": "code",
   "execution_count": 27,
   "id": "b8d520ba",
   "metadata": {},
   "outputs": [],
   "source": [
    "def run_MURA(batch_size, nb_epoch, depth, nb_dense_block, nb_filter, growth_rate, dropout_rate, learning_rate, weight_decay, plot_architecture):\n",
    "    \"\"\"\n",
    "    Run MURA experiments\n",
    "\n",
    "    :parameter batch_size: int -- batch size\n",
    "    :parameter nb_epoch: int -- number of training epochs\n",
    "    :parameter depth: int -- network depth\n",
    "    :parameter nb_dense_block: int -- number of dense blocks\n",
    "    :parameter nb_filter: int -- initial number of conv filter\n",
    "    :parameter growth_rate: int -- number of new filters added by conv layers\n",
    "    :parameter dropout_rate: float -- dropout rate\n",
    "    :parameter learning_rate: float -- learning rate\n",
    "    :parameter weight_decay: float -- weight decay\n",
    "    :parameter plot_architecture: bool -- whether to plot network architecture\n",
    "\n",
    "    \"\"\"\n",
    "\n",
    "    ###################\n",
    "    # Data processing #\n",
    "    ###################\n",
    "\n",
    "    \n",
    "    im_size = 320   #Test modification parameters size root_path nb_epoch nb_dense_block         \n",
    "    X_train_path, Y_train = data_loader.load_path(root_path = './train/XR_HUMERUS',size = im_size)  \n",
    "    X_valid_path, Y_valid = data_loader.load_path(root_path = './valid/XR_HUMERUS', size = im_size)  \n",
    "\n",
    "    X_valid = data_loader.load_image(X_valid_path,im_size)  #Load verification set ahead of time\n",
    "    Y_valid = np.asarray(Y_valid)\n",
    "    nb_classes = 1                                \n",
    "    img_dim = (im_size,im_size,1)                 #Plus the last dimension, type is tuple\n",
    "\n",
    "    \n",
    "    ###################\n",
    "    # Construct model #\n",
    "    ###################\n",
    "\n",
    "    model = densenet.DenseNet(nb_classes, img_dim, depth, nb_dense_block, growth_rate, nb_filter, dropout_rate=dropout_rate, weight_decay=weight_decay)\n",
    "    # Model output\n",
    "    model.summary()\n",
    "\n",
    "    # Build optimizer\n",
    "    opt = Adam(lr=learning_rate, beta_1=0.9, beta_2=0.999, epsilon=1e-08)\n",
    "\n",
    "    model.compile(loss='binary_crossentropy', optimizer=opt, metrics=[\"accuracy\"])\n",
    "\n",
    "    if plot_architecture:\n",
    "        from keras.utils import plot_model\n",
    "        plot_model(model, to_file='./figures/densenet_archi.png', show_shapes=True)\n",
    "\n",
    "    ####################\n",
    "    # Network training #\n",
    "    ####################\n",
    "\n",
    "    print(\"Start Training\")\n",
    "\n",
    "    list_train_loss = []\n",
    "    list_valid_loss = []\n",
    "    list_learning_rate = []\n",
    "    best_record = [100,0,100,100] #Recording optimal [verification set loss function value, accuracy rate, training set data set loss difference,acc difference]\n",
    "    start_time = datetime.datetime.now()\n",
    "    for e in range(nb_epoch):\n",
    "\n",
    "        if e == int(0.25 * nb_epoch):\n",
    "            K.set_value(model.optimizer.lr, np.float32(learning_rate / 10.))\n",
    "\n",
    "        if e == int(0.5 * nb_epoch):\n",
    "            K.set_value(model.optimizer.lr, np.float32(learning_rate / 50.))\n",
    "\n",
    "        if e == int(0.75 * nb_epoch):\n",
    "            K.set_value(model.optimizer.lr, np.float32(learning_rate / 100.))\n",
    "\n",
    "\n",
    "        split_size = batch_size\n",
    "        num_splits = len(X_train_path) / split_size\n",
    "\n",
    "        arr_all = np.arange(len(X_train_path)).astype(int)\n",
    "        random.shuffle(arr_all)                 #Randomly disrupted index order\n",
    "        arr_splits = np.array_split(arr_all, num_splits)\n",
    "\n",
    "        l_train_loss = []\n",
    "        batch_train_loss = []\n",
    "        start = datetime.datetime.now()\n",
    "\n",
    "        for i,batch_idx in enumerate(arr_splits):\n",
    "\n",
    "\n",
    "            X_batch_path,Y_batch = [],[]\n",
    "            for idx in batch_idx:\n",
    "                X_batch_path.append(X_train_path[idx])\n",
    "                Y_batch.append(Y_train[idx])\n",
    "            X_batch = data_loader.load_image(Path = X_batch_path, size =im_size)\n",
    "            Y_batch = np.asarray(Y_batch)\n",
    "            train_logloss, train_acc = model.train_on_batch(X_batch, Y_batch)\n",
    "\n",
    "            l_train_loss.append([train_logloss, train_acc])\n",
    "            batch_train_loss.append([train_logloss, train_acc])\n",
    "            if i %100 == 0:\n",
    "                loss_1, acc_1 = np.mean(np.array(l_train_loss), 0)\n",
    "                loss_2, acc_2 = np.mean(np.array(batch_train_loss), 0)\n",
    "                batch_train_loss = []           #Current 100 batch loss function and accuracy\n",
    "                print ('[Epoch {}/{}] [Batch {}/{}] [Time: {}] [all_batchs--> train_epoch_logloss: {:.5f}, train_epoch_acc:{:.5f}] '.format(e+1,nb_epoch,i, len(arr_splits),datetime.datetime.now() - start,loss_1,acc_1), '[this_100_batchs-->train_batchs_logloss: {:.5f}, train_batchs_acc:{:.5f}]'.format(loss_2, acc_2))\n",
    "\n",
    "        # Run verification set\n",
    "        valid_logloss, valid_acc = model.evaluate(X_valid, Y_valid, verbose=0, batch_size=64)\n",
    "        list_train_loss.append(np.mean(np.array(l_train_loss), 0).tolist())\n",
    "        list_valid_loss.append([valid_logloss, valid_acc])\n",
    "        list_learning_rate.append(float(K.get_value(model.optimizer.lr)))\n",
    "        # to convert numpy array to json serializable\n",
    "        print('[Epoch %s/%s] [Time: %s, Total_time: %s]' % (e + 1, nb_epoch, datetime.datetime.now() - start, datetime.datetime.now() - start_time),end = '')\n",
    "        print('[train_loss_and_acc:{:.5f} {:.5f}] [valid_loss_acc:{:.5f} {:.5f}]'.format(list_train_loss[-1][0], list_train_loss[-1][1],list_valid_loss[-1][0],list_valid_loss[-1][1]))\n",
    "\n",
    "\n",
    "        d_log = {}\n",
    "        d_log[\"batch_size\"] = batch_size\n",
    "        d_log[\"nb_epoch\"] = nb_epoch\n",
    "        d_log[\"optimizer\"] = opt.get_config()\n",
    "        d_log[\"train_loss\"] = list_train_loss\n",
    "        d_log[\"valid_loss\"] = list_valid_loss\n",
    "        d_log[\"learning_rate\"] = list_learning_rate\n",
    "\n",
    "        json_file = os.path.join('./log/experiment_log_MURA.json')\n",
    "        with open(json_file, 'w') as fp:\n",
    "            json.dump(d_log, fp, indent=4, sort_keys=True)\n",
    "\n",
    "\n",
    "\n",
    "        record = [valid_logloss,valid_acc,abs(valid_logloss-list_train_loss[-1][0]),abs(valid_acc-list_train_loss[-1][1]),]\n",
    "        if ((record[0]<=best_record[0]) &(record[1]>=best_record[1])) :\n",
    "            if e <= int(0.25 * nb_epoch)|(record[2]<=best_record[2])&(record[3]<=best_record[3]):#Add a difference judgment after a quarter epoch\n",
    "                best_record=record                      #Record the smallest [validation set loss function value, accuracy rate, training set data loss difference, acc difference]\n",
    "                print('saving the best model:epoch',e+1,best_record)\n",
    "                model.save('save_models/best_MURA_modle@epochs{}.h5'.format(e+1))\n",
    "        model.save('save_models/MURA_modle@epochs{}.h5'.format(e+1))"
   ]
  },
  {
   "cell_type": "code",
   "execution_count": 31,
   "id": "af151a64",
   "metadata": {},
   "outputs": [
    {
     "name": "stderr",
     "output_type": "stream",
     "text": [
      "usage: ipykernel_launcher.py [-h] [--batch_size BATCH_SIZE]\n",
      "                             [--nb_epoch NB_EPOCH] [--depth DEPTH]\n",
      "                             [--nb_dense_block NB_DENSE_BLOCK]\n",
      "                             [--nb_filter NB_FILTER]\n",
      "                             [--growth_rate GROWTH_RATE]\n",
      "                             [--dropout_rate DROPOUT_RATE]\n",
      "                             [--learning_rate LEARNING_RATE]\n",
      "                             [--weight_decay WEIGHT_DECAY]\n",
      "                             [--plot_architecture PLOT_ARCHITECTURE]\n",
      "ipykernel_launcher.py: error: unrecognized arguments: -f /Users/ibrahimirfan/Library/Jupyter/runtime/kernel-40988462-c9da-4119-848f-e637a63d3da3.json\n"
     ]
    },
    {
     "ename": "SystemExit",
     "evalue": "2",
     "output_type": "error",
     "traceback": [
      "An exception has occurred, use %tb to see the full traceback.\n",
      "\u001b[0;31mSystemExit\u001b[0m\u001b[0;31m:\u001b[0m 2\n"
     ]
    }
   ],
   "source": [
    "if __name__ == '__main__':\n",
    "    # Use default parameters directly\n",
    "    parser = argparse.ArgumentParser(description='Run MURA experiment')\n",
    "    parser.add_argument('--batch_size', default=8, type=int, #default=64, earlier it was 8\n",
    "                        help='Batch size')\n",
    "    parser.add_argument('--nb_epoch',  type=int, default=52,#default=30, earlier it was 32\n",
    "                        help='Number of epochs')\n",
    "    parser.add_argument('--depth', type=int, default=6*3+4,#default=7,    #This parameter is no longer used, set directly from the list in the densenet 6*3+4\n",
    "                        help='Network depth')\n",
    "    parser.add_argument('--nb_dense_block', type=int, default=4, #default=1,\n",
    "                        help='Number of dense blocks')\n",
    "    parser.add_argument('--nb_filter', type=int, default=16, #earlier it was 16\n",
    "                        help='Initial number of conv filters')\n",
    "    parser.add_argument('--growth_rate', type=int, default=12, #earlier it was 12\n",
    "                        help='Number of new filters added by conv layers')\n",
    "    parser.add_argument('--dropout_rate', type=float, default=0.2,\n",
    "                        help='Dropout rate')\n",
    "    parser.add_argument('--learning_rate', type=float, default=1E-3, #default=1E-3,\n",
    "                        help='Learning rate')\n",
    "    parser.add_argument('--weight_decay', type=float, default=1E-4,\n",
    "                        help='L2 regularization on weights')\n",
    "    parser.add_argument('--plot_architecture', type=bool, default=False,#default=False,\n",
    "                        help='Save a plot of the network architecture')\n",
    "\n",
    "    args = parser.parse_args()\n",
    "\n",
    "    print(\"Network configuration:\")\n",
    "    for name, value in parser.parse_args()._get_kwargs():\n",
    "        print(name, value)\n",
    "\n",
    "    list_dir = [\"./log\", \"./figures\", \"./save_models\"]\n",
    "    for d in list_dir:\n",
    "        if not os.path.exists(d):\n",
    "            os.makedirs(d)\n",
    "\n",
    "    run_MURA(args.batch_size, args.nb_epoch, args.depth, args.nb_dense_block,  args.nb_filter, args.growth_rate, args.dropout_rate, args.learning_rate, args.weight_decay, args.plot_architecture)"
   ]
  },
  {
   "cell_type": "markdown",
   "id": "a3004062",
   "metadata": {},
   "source": [
    "## Loading The Model"
   ]
  },
  {
   "cell_type": "code",
   "execution_count": 32,
   "id": "5a959c2d",
   "metadata": {},
   "outputs": [],
   "source": [
    "\n",
    "import os\n",
    "import time\n",
    "import datetime\n",
    "import random\n",
    "import json\n",
    "import argparse\n",
    "import densenet\n",
    "import numpy as np\n",
    "import keras.backend as K\n",
    "\n",
    "from keras.optimizers import Adam\n",
    "from keras.utils import np_utils\n",
    "from keras.models import load_model\n",
    "import data_loader\n",
    "from keras.models import model_from_json"
   ]
  },
  {
   "cell_type": "code",
   "execution_count": 33,
   "id": "297fc285",
   "metadata": {},
   "outputs": [
    {
     "name": "stdout",
     "output_type": "stream",
     "text": [
      "Unexpected exception formatting exception. Falling back to standard exception\n"
     ]
    },
    {
     "name": "stderr",
     "output_type": "stream",
     "text": [
      "Traceback (most recent call last):\n",
      "  File \"/Users/ibrahimirfan/anaconda3/lib/python3.10/site-packages/IPython/core/interactiveshell.py\", line 3460, in run_code\n",
      "    exec(code_obj, self.user_global_ns, self.user_ns)\n",
      "  File \"/var/folders/sn/mv6gpvjx2mvd4038bxgrt8700000gn/T/ipykernel_90373/1513157940.py\", line 5, in <module>\n",
      "    model = densenet.DenseNet(nb_classes=1, img_dim=(320,320,1), depth=22, nb_dense_block=4, growth_rate=12, nb_filter=16, dropout_rate=0.2, weight_decay=1E-4)\n",
      "  File \"/Users/ibrahimirfan/Downloads/Bone-Fracture-Detection---MURA-master/densenet.py\", line 131, in DenseNet\n",
      "    if K.image_dim_ordering() == \"th\":\n",
      "AttributeError: module 'keras.backend' has no attribute 'image_dim_ordering'\n",
      "\n",
      "During handling of the above exception, another exception occurred:\n",
      "\n",
      "Traceback (most recent call last):\n",
      "  File \"/Users/ibrahimirfan/anaconda3/lib/python3.10/site-packages/IPython/core/interactiveshell.py\", line 2057, in showtraceback\n",
      "    stb = self.InteractiveTB.structured_traceback(\n",
      "  File \"/Users/ibrahimirfan/anaconda3/lib/python3.10/site-packages/IPython/core/ultratb.py\", line 1118, in structured_traceback\n",
      "    return FormattedTB.structured_traceback(\n",
      "  File \"/Users/ibrahimirfan/anaconda3/lib/python3.10/site-packages/IPython/core/ultratb.py\", line 1012, in structured_traceback\n",
      "    return VerboseTB.structured_traceback(\n",
      "  File \"/Users/ibrahimirfan/anaconda3/lib/python3.10/site-packages/IPython/core/ultratb.py\", line 865, in structured_traceback\n",
      "    formatted_exception = self.format_exception_as_a_whole(etype, evalue, etb, number_of_lines_of_context,\n",
      "  File \"/Users/ibrahimirfan/anaconda3/lib/python3.10/site-packages/IPython/core/ultratb.py\", line 818, in format_exception_as_a_whole\n",
      "    frames.append(self.format_record(r))\n",
      "  File \"/Users/ibrahimirfan/anaconda3/lib/python3.10/site-packages/IPython/core/ultratb.py\", line 736, in format_record\n",
      "    result += ''.join(_format_traceback_lines(frame_info.lines, Colors, self.has_colors, lvals))\n",
      "  File \"/Users/ibrahimirfan/anaconda3/lib/python3.10/site-packages/stack_data/utils.py\", line 145, in cached_property_wrapper\n",
      "    value = obj.__dict__[self.func.__name__] = self.func(obj)\n",
      "  File \"/Users/ibrahimirfan/anaconda3/lib/python3.10/site-packages/stack_data/core.py\", line 698, in lines\n",
      "    pieces = self.included_pieces\n",
      "  File \"/Users/ibrahimirfan/anaconda3/lib/python3.10/site-packages/stack_data/utils.py\", line 145, in cached_property_wrapper\n",
      "    value = obj.__dict__[self.func.__name__] = self.func(obj)\n",
      "  File \"/Users/ibrahimirfan/anaconda3/lib/python3.10/site-packages/stack_data/core.py\", line 649, in included_pieces\n",
      "    pos = scope_pieces.index(self.executing_piece)\n",
      "  File \"/Users/ibrahimirfan/anaconda3/lib/python3.10/site-packages/stack_data/utils.py\", line 145, in cached_property_wrapper\n",
      "    value = obj.__dict__[self.func.__name__] = self.func(obj)\n",
      "  File \"/Users/ibrahimirfan/anaconda3/lib/python3.10/site-packages/stack_data/core.py\", line 628, in executing_piece\n",
      "    return only(\n",
      "  File \"/Users/ibrahimirfan/anaconda3/lib/python3.10/site-packages/executing/executing.py\", line 164, in only\n",
      "    raise NotOneValueFound('Expected one value, found 0')\n",
      "executing.executing.NotOneValueFound: Expected one value, found 0\n"
     ]
    }
   ],
   "source": [
    "im_size = 320\n",
    "\n",
    "\n",
    "\n",
    "model = densenet.DenseNet(nb_classes=1, img_dim=(320,320,1), depth=22, nb_dense_block=4, growth_rate=12, nb_filter=16, dropout_rate=0.2, weight_decay=1E-4)\n",
    "\n",
    "model.load_weights('./save_models/MURA_modle@epochs52.h5')\n",
    "\n",
    "X_valid_path, Y_valid = data_loader.load_path(root_path = './valid/XR_HUMERUS', size = im_size)\n",
    "X_valid = data_loader.load_image(X_valid_path,im_size)\n",
    "y1 = model.predict(X_valid, batch_size=None, verbose=0, steps=None)\n",
    "\n",
    "j = len(y1)\n",
    "\n",
    "for i in range (0, j):\n",
    "\tif y1[i]>0.5 :\n",
    "\t\tprint(X_valid_path[i],\":\\t\",\"Positive\\t\", y1[i])\n",
    "\telse:\n",
    "\t\tprint(X_valid_path[i],\":\\t\",\"Negative\\t\", y1[i])"
   ]
  },
  {
   "cell_type": "markdown",
   "id": "7a56b99d",
   "metadata": {},
   "source": [
    "## Training Accuracy"
   ]
  },
  {
   "cell_type": "code",
   "execution_count": 34,
   "id": "5cc680bf",
   "metadata": {},
   "outputs": [],
   "source": [
    "import matplotlib.pylab as plt\n",
    "import json\n",
    "import numpy as np"
   ]
  },
  {
   "cell_type": "code",
   "execution_count": 35,
   "id": "8feb66eb",
   "metadata": {},
   "outputs": [
    {
     "data": {
      "image/png": "[encoded data removed]",
      "text/plain": [
       "<Figure size 640x480 with 1 Axes>"
      ]
     },
     "metadata": {},
     "output_type": "display_data"
    }
   ],
   "source": [
    "def plot_MURA(save=True):\n",
    "\n",
    "    with open(\"./log/experiment_log_MURA.json\", \"r\") as f:\n",
    "        d = json.load(f)\n",
    "\n",
    "    train_accuracy = 100 * (np.array(d[\"train_loss\"])[:, 1])\n",
    "\n",
    "    fig = plt.figure()\n",
    "    ax1 = fig.add_subplot(111)\n",
    "    ax1.set_ylabel('Accuracy')\n",
    "    ax1.set_xlabel('Epochs')                                                   \n",
    "    ax1.plot(train_accuracy, color=\"tomato\", linewidth=1, label='train_acc')\n",
    "    \n",
    "    ax1.legend(loc=0)\n",
    "    \n",
    "\n",
    "\t\n",
    "    ax1.grid(True)\n",
    "\n",
    "    if save:\n",
    "        fig.savefig('./figures/plot_MURA_train_acc.jpg')\n",
    "\n",
    "    plt.show()\n",
    "    plt.clf()\n",
    "    plt.close()\n",
    "\n",
    "if __name__ == '__main__':\n",
    "    plot_MURA()"
   ]
  },
  {
   "cell_type": "markdown",
   "id": "5c75023d",
   "metadata": {},
   "source": [
    "## Validation Accuracy"
   ]
  },
  {
   "cell_type": "code",
   "execution_count": 36,
   "id": "817071b9",
   "metadata": {},
   "outputs": [
    {
     "data": {
      "image/png": "[encoded data removed]",
      "text/plain": [
       "<Figure size 640x480 with 1 Axes>"
      ]
     },
     "metadata": {},
     "output_type": "display_data"
    }
   ],
   "source": [
    "def plot_MURA(save=True):\n",
    "\n",
    "    with open(\"./log/experiment_log_MURA.json\", \"r\") as f:\n",
    "        d = json.load(f)\n",
    "\n",
    "\n",
    "    valid_accuracy = 100 * (np.array(d[\"valid_loss\"])[:, 1])\n",
    "\n",
    "    fig = plt.figure()\n",
    "    ax1 = fig.add_subplot(111)\n",
    "    ax1.set_ylabel('Accuracy')\n",
    "    ax1.set_xlabel('Epochs')                                                   \n",
    "    ax1.plot(valid_accuracy, color=\"tomato\", linewidth=1, label='valid_acc')\n",
    "    \n",
    "    ax1.legend(loc=0)\n",
    "    \n",
    "\n",
    "\t\n",
    "    ax1.grid(True)\n",
    "\n",
    "    if save:\n",
    "        fig.savefig('./figures/plot_MURA_valid_acc.jpg')\n",
    "\n",
    "    plt.show()\n",
    "    plt.clf()\n",
    "    plt.close()\n",
    "\n",
    "if __name__ == '__main__':\n",
    "    plot_MURA()"
   ]
  },
  {
   "cell_type": "markdown",
   "id": "9f4d0d88",
   "metadata": {},
   "source": [
    "# Training Loss"
   ]
  },
  {
   "cell_type": "code",
   "execution_count": 37,
   "id": "1395da50",
   "metadata": {},
   "outputs": [],
   "source": [
    "import matplotlib.pylab as plt\n",
    "import json\n",
    "import numpy as np"
   ]
  },
  {
   "cell_type": "code",
   "execution_count": 38,
   "id": "b3caa0b2",
   "metadata": {},
   "outputs": [
    {
     "data": {
      "image/png": "[encoded data removed]",
      "text/plain": [
       "<Figure size 640x480 with 1 Axes>"
      ]
     },
     "metadata": {},
     "output_type": "display_data"
    }
   ],
   "source": [
    "def plot_MURA(save=True):\n",
    "\n",
    "    with open(\"./log/experiment_log_MURA.json\", \"r\") as f:\n",
    "        d = json.load(f)\n",
    "\n",
    "\n",
    "    train_loss = 100 * np.array(d[\"train_loss\"])[:, 0]\n",
    "\n",
    "    \n",
    "    fig = plt.figure()\n",
    "    ax1 = fig.add_subplot(111)\n",
    "    ax1.set_ylabel('Loss')\n",
    "    ax1.set_xlabel('Epochs')                                                   \n",
    "    ax1.plot(train_loss, color=\"tomato\", linewidth=1, label='train_loss')\n",
    "    \n",
    "    ax1.legend(loc=0)\n",
    "    \n",
    "\n",
    "\t\n",
    "    ax1.grid(True)\n",
    "\n",
    "    if save:\n",
    "        fig.savefig('./figures/plot_MURA_train_loss.jpg')\n",
    "\n",
    "    plt.show()\n",
    "    plt.clf()\n",
    "    plt.close()\n",
    "\n",
    "if __name__ == '__main__':\n",
    "    plot_MURA()"
   ]
  },
  {
   "cell_type": "markdown",
   "id": "a1b8e93f",
   "metadata": {},
   "source": [
    "# Validation Loss"
   ]
  },
  {
   "cell_type": "code",
   "execution_count": 39,
   "id": "3cc59e85",
   "metadata": {},
   "outputs": [],
   "source": [
    "import matplotlib.pylab as plt\n",
    "import json\n",
    "import numpy as np"
   ]
  },
  {
   "cell_type": "code",
   "execution_count": 40,
   "id": "c645fdfa",
   "metadata": {},
   "outputs": [
    {
     "data": {
      "image/png": "[encoded data removed]",
      "text/plain": [
       "<Figure size 640x480 with 1 Axes>"
      ]
     },
     "metadata": {},
     "output_type": "display_data"
    }
   ],
   "source": [
    "def plot_MURA(save=True):\n",
    "\n",
    "    with open(\"./log/experiment_log_MURA.json\", \"r\") as f:\n",
    "        d = json.load(f)\n",
    "\n",
    "\n",
    "    valid_loss = 100 * np.array(d[\"valid_loss\"])[:, 0]\n",
    "    \n",
    "    fig = plt.figure()\n",
    "    ax1 = fig.add_subplot(111)\n",
    "    ax1.set_ylabel('Loss')\n",
    "    ax1.set_xlabel('Epochs')                                                   \n",
    "    ax1.plot(valid_loss, color=\"tomato\", linewidth=1, label='valid_loss')\n",
    "    \n",
    "    ax1.legend(loc=0)\n",
    "    \n",
    "\n",
    "\t\n",
    "    ax1.grid(True)\n",
    "\n",
    "    if save:\n",
    "        fig.savefig('./figures/plot_MURA_valid_loss.jpg')\n",
    "\n",
    "    plt.show()\n",
    "    plt.clf()\n",
    "    plt.close()\n",
    "\n",
    "if __name__ == '__main__':\n",
    "    plot_MURA()\n"
   ]
  },
  {
   "cell_type": "code",
   "execution_count": null,
   "id": "4575fade",
   "metadata": {},
   "outputs": [],
   "source": []
  }
 ],
 "metadata": {
  "kernelspec": {
   "display_name": "Python 3 (ipykernel)",
   "language": "python",
   "name": "python3"
  },
  "language_info": {
   "codemirror_mode": {
    "name": "ipython",
    "version": 3
   },
   "file_extension": ".py",
   "mimetype": "text/x-python",
   "name": "python",
   "nbconvert_exporter": "python",
   "pygments_lexer": "ipython3",
   "version": "3.10.9"
  }
 },
 "nbformat": 4,
 "nbformat_minor": 5
}
